{
 "cells": [
  {
   "cell_type": "markdown",
   "id": "fadf96a6",
   "metadata": {},
   "source": [
    "##Przestawienie problemu. Zacznijmy od pewnego filmu. Oczywiście przedtem trzeba zaimportować odpowiednie biblioteki"
   ]
  },
  {
   "cell_type": "code",
   "execution_count": null,
   "id": "b604f328",
   "metadata": {},
   "outputs": [],
   "source": [
    "from IPython.display import YouTubeVideo\n",
    "\n",
    "YouTubeVideo('Z44BZeF-ovk', width=640, height=360)"
   ]
  },
  {
   "cell_type": "markdown",
   "id": "2b72ac36",
   "metadata": {},
   "source": [
    "No właśnie? Czy w niedziele o godzinie 17 gorzej się gra w piłkę?"
   ]
  },
  {
   "cell_type": "markdown",
   "id": "65ff6f9f",
   "metadata": {},
   "source": [
    "Najpierw zainstalujmy niezbędne pakiety"
   ]
  },
  {
   "cell_type": "code",
   "execution_count": 4,
   "id": "7a5a6dad",
   "metadata": {},
   "outputs": [],
   "source": [
    "import kagglehub\n",
    "import pandas as pd\n",
    "from pathlib import Path, PurePath\n"
   ]
  },
  {
   "cell_type": "markdown",
   "id": "7b25f8db",
   "metadata": {},
   "source": [
    "Teraz zaimportujmy dane i zróbmy pierwsze modyfikacje"
   ]
  },
  {
   "cell_type": "code",
   "execution_count": 33,
   "id": "8308c15e",
   "metadata": {},
   "outputs": [
    {
     "name": "stdout",
     "output_type": "stream",
     "text": [
      "Warning: Looks like you're using an outdated `kagglehub` version, please consider updating (latest version: 0.3.12)\n",
      "Index(['matchday', 'date', 'time', 'home team', 'homescore', 'homexg',\n",
      "       'awayscore', 'awayxg', 'away team', 'attendance', 'referee', 'stadium',\n",
      "       'result', '*additional stats'],\n",
      "      dtype='object')\n"
     ]
    },
    {
     "name": "stderr",
     "output_type": "stream",
     "text": [
      "C:\\Users\\mateu\\AppData\\Local\\Temp\\ipykernel_13108\\3142554772.py:10: SettingWithCopyWarning: \n",
      "A value is trying to be set on a copy of a slice from a DataFrame\n",
      "\n",
      "See the caveats in the documentation: https://pandas.pydata.org/pandas-docs/stable/user_guide/indexing.html#returning-a-view-versus-a-copy\n",
      "  df.drop(columns=cols_to_drop,inplace=True)\n"
     ]
    }
   ],
   "source": [
    "pd.set_option('display.max_columns', 18)\n",
    "\n",
    "path = kagglehub.dataset_download(\"filippomonte/premier-league-past-3-seasons\")\n",
    "file = PurePath(Path(path).joinpath('PremierLeagueMatches.csv'))\n",
    "df_raw = pd.read_csv(file)\n",
    "df_raw.columns = [x.lower() for x in df_raw.columns]\n",
    "df = df_raw.dropna(subset=['result'])\n",
    "print(df.columns)\n",
    "cols_to_drop = ['matchday',  'attendance', 'referee', 'stadium', 'result', '*additional stats']\n",
    "df.drop(columns=cols_to_drop,inplace=True)"
   ]
  },
  {
   "cell_type": "code",
   "execution_count": 34,
   "id": "05b46834",
   "metadata": {},
   "outputs": [
    {
     "name": "stdout",
     "output_type": "stream",
     "text": [
      "            date   time       home team  homescore  homexg  awayscore  awayxg  \\\n",
      "0     2022-08-05  20:00  Crystal Palace        0.0     1.2        2.0     1.0   \n",
      "1     2022-08-06  12:30          Fulham        2.0     1.2        2.0     1.2   \n",
      "2     2022-08-06  15:00       Tottenham        4.0     1.5        1.0     0.5   \n",
      "3     2022-08-06  15:00   Newcastle Utd        2.0     1.7        0.0     0.3   \n",
      "4     2022-08-06  15:00    Leeds United        2.0     0.8        1.0     1.3   \n",
      "...          ...    ...             ...        ...     ...        ...     ...   \n",
      "1044  2025-03-15  15:00     Southampton        1.0     1.3        2.0     0.4   \n",
      "1045  2025-03-15  17:30     Bournemouth        1.0     1.6        2.0     0.8   \n",
      "1046  2025-03-16  13:30         Arsenal        1.0     0.7        0.0     0.4   \n",
      "1047  2025-03-16  13:30          Fulham        2.0     1.0        0.0     0.9   \n",
      "1048  2025-03-16  19:00  Leicester City        0.0     1.0        3.0     0.9   \n",
      "\n",
      "            away team  \n",
      "0             Arsenal  \n",
      "1           Liverpool  \n",
      "2         Southampton  \n",
      "3     Nott'ham Forest  \n",
      "4              Wolves  \n",
      "...               ...  \n",
      "1044           Wolves  \n",
      "1045        Brentford  \n",
      "1046          Chelsea  \n",
      "1047        Tottenham  \n",
      "1048   Manchester Utd  \n",
      "\n",
      "[1049 rows x 8 columns]\n"
     ]
    }
   ],
   "source": [
    "print(df)"
   ]
  }
 ],
 "metadata": {
  "kernelspec": {
   "display_name": "analiza_danych_projekt",
   "language": "python",
   "name": "python3"
  },
  "language_info": {
   "codemirror_mode": {
    "name": "ipython",
    "version": 3
   },
   "file_extension": ".py",
   "mimetype": "text/x-python",
   "name": "python",
   "nbconvert_exporter": "python",
   "pygments_lexer": "ipython3",
   "version": "3.10.18"
  }
 },
 "nbformat": 4,
 "nbformat_minor": 5
}
