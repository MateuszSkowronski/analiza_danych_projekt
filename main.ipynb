{
 "cells": [
  {
   "cell_type": "markdown",
   "id": "fadf96a6",
   "metadata": {},
   "source": [
    "##Przestawienie problemu. Zacznijmy od pewnego filmu. Oczywiście przedtem trzeba zaimportować odpowiednie biblioteki"
   ]
  },
  {
   "cell_type": "code",
   "execution_count": null,
   "id": "b604f328",
   "metadata": {},
   "outputs": [],
   "source": [
    "from IPython.display import YouTubeVideo\n",
    "\n",
    "YouTubeVideo('Z44BZeF-ovk', width=640, height=360)"
   ]
  },
  {
   "cell_type": "markdown",
   "id": "2b72ac36",
   "metadata": {},
   "source": [
    "No właśnie? Czy w niedziele o godzinie 17 gorzej się gra w piłkę?"
   ]
  },
  {
   "cell_type": "markdown",
   "id": "65ff6f9f",
   "metadata": {},
   "source": [
    "Najpierw zainstalujmy niezbędne pakiety"
   ]
  },
  {
   "cell_type": "code",
   "execution_count": 1,
   "id": "7a5a6dad",
   "metadata": {},
   "outputs": [
    {
     "name": "stderr",
     "output_type": "stream",
     "text": [
      "x:\\anaconda3\\envs\\analiza_danych_projekt\\lib\\site-packages\\tqdm\\auto.py:21: TqdmWarning: IProgress not found. Please update jupyter and ipywidgets. See https://ipywidgets.readthedocs.io/en/stable/user_install.html\n",
      "  from .autonotebook import tqdm as notebook_tqdm\n"
     ]
    }
   ],
   "source": [
    "import kagglehub\n",
    "import pandas as pd\n",
    "from pathlib import Path, PurePath\n",
    "import functions as f\n"
   ]
  },
  {
   "cell_type": "markdown",
   "id": "7b25f8db",
   "metadata": {},
   "source": [
    "Teraz zaimportujmy dane i zróbmy pierwsze modyfikacje"
   ]
  },
  {
   "cell_type": "code",
   "execution_count": null,
   "id": "8308c15e",
   "metadata": {},
   "outputs": [
    {
     "name": "stdout",
     "output_type": "stream",
     "text": [
      "Warning: Looks like you're using an outdated `kagglehub` version, please consider updating (latest version: 0.3.12)\n",
      "Index(['matchday', 'date', 'time', 'home team', 'homescore', 'homexg',\n",
      "       'awayscore', 'awayxg', 'away team', 'attendance', 'referee', 'stadium',\n",
      "       'result', '*additional stats'],\n",
      "      dtype='object')\n"
     ]
    },
    {
     "name": "stderr",
     "output_type": "stream",
     "text": [
      "C:\\Users\\mateu\\AppData\\Local\\Temp\\ipykernel_11440\\3142554772.py:10: SettingWithCopyWarning: \n",
      "A value is trying to be set on a copy of a slice from a DataFrame\n",
      "\n",
      "See the caveats in the documentation: https://pandas.pydata.org/pandas-docs/stable/user_guide/indexing.html#returning-a-view-versus-a-copy\n",
      "  df.drop(columns=cols_to_drop,inplace=True)\n"
     ]
    }
   ],
   "source": [
    "pd.set_option('display.max_columns', 18)\n",
    "\n",
    "path = kagglehub.dataset_download(\"filippomonte/premier-league-past-3-seasons\")\n",
    "file = PurePath(Path(path).joinpath('PremierLeagueMatches.csv'))\n",
    "df_raw = pd.read_csv(file)\n",
    "df_raw.columns = [x.lower() for x in df_raw.columns]\n",
    "df = df_raw.dropna(subset=['result'])\n",
    "#print(df.columns)\n",
    "cols_to_drop = ['matchday',  'attendance', 'referee', 'stadium', 'result', '*additional stats']\n",
    "df.drop(columns=cols_to_drop,inplace=True)"
   ]
  },
  {
   "cell_type": "markdown",
   "id": "76e25539",
   "metadata": {},
   "source": [
    "W następnym kroku wyciągnijmy z daty dzień tygodnia. Utworzymy 2 nowe zmienne: \n",
    "- jedna kategoryczna - nazwa dnia tygodnia\n",
    "= druga czy niedziela.\n",
    "\n",
    "Ponadto na podstawie godziny wyciągniemy czy mecz o 17. Zaokrąglijmy początek meczu do pełnej godziny (do 30 zaokrąglamy w dół od 31 w górę). Następnie stworzymy kolejną zmienną, dla wyrównania liczebności zbiorów 16-18 to jest gra o 17."
   ]
  },
  {
   "cell_type": "code",
   "execution_count": null,
   "id": "bb5e0c28",
   "metadata": {},
   "outputs": [],
   "source": [
    "df['date'] = pd.to_datetime(df['date'])\n",
    "df['day_of_week'] = df['date'].dt.day_name()\n",
    "df['sunday']=df['day_of_week'].apply(lambda x: 'Yes' if x=='Sunday' else 'No')\n",
    "df['pure_hour'] = pd.to_datetime(df['time'], format='%H:%M')\n",
    "df['pure_hour']=df['pure_hour'].apply(f.hours).dt.hour\n",
    "df['seventeen']=df['pure_hour'].apply(lambda x: 'Yes' if x>=16 and x<=18 else 'No')"
   ]
  }
 ],
 "metadata": {
  "kernelspec": {
   "display_name": "analiza_danych_projekt",
   "language": "python",
   "name": "python3"
  },
  "language_info": {
   "codemirror_mode": {
    "name": "ipython",
    "version": 3
   },
   "file_extension": ".py",
   "mimetype": "text/x-python",
   "name": "python",
   "nbconvert_exporter": "python",
   "pygments_lexer": "ipython3",
   "version": "3.10.18"
  }
 },
 "nbformat": 4,
 "nbformat_minor": 5
}
