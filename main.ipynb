{
 "cells": [
  {
   "cell_type": "markdown",
   "id": "fadf96a6",
   "metadata": {},
   "source": [
    "##Przestawienie problemu. Zacznijmy od pewnego filmu. Oczywiście przedtem trzeba zaimportować odpowiednie biblioteki"
   ]
  },
  {
   "cell_type": "code",
   "execution_count": 2,
   "id": "b604f328",
   "metadata": {},
   "outputs": [
    {
     "data": {
      "image/jpeg": "[encoded data removed]",
      "text/html": [
       "\n",
       "        <iframe\n",
       "            width=\"640\"\n",
       "            height=\"360\"\n",
       "            src=\"https://www.youtube.com/embed/Z44BZeF-ovk\"\n",
       "            frameborder=\"0\"\n",
       "            allowfullscreen\n",
       "            \n",
       "        ></iframe>\n",
       "        "
      ],
      "text/plain": [
       "<IPython.lib.display.YouTubeVideo at 0x23a861a84c0>"
      ]
     },
     "execution_count": 2,
     "metadata": {},
     "output_type": "execute_result"
    }
   ],
   "source": [
    "from IPython.display import YouTubeVideo\n",
    "\n",
    "YouTubeVideo('Z44BZeF-ovk', width=640, height=360)"
   ]
  },
  {
   "cell_type": "markdown",
   "id": "2b72ac36",
   "metadata": {},
   "source": [
    "No właśnie? Czy w niedziele o godzinie 17 gorzej się gra w piłkę?"
   ]
  },
  {
   "cell_type": "code",
   "execution_count": null,
   "id": "3631460d",
   "metadata": {},
   "outputs": [],
   "source": [
    "Najpierw zainstalujmy niezbędne pakiety"
   ]
  },
  {
   "cell_type": "code",
   "execution_count": null,
   "id": "7a5a6dad",
   "metadata": {},
   "outputs": [],
   "source": [
    "import kagglehub\n",
    "import pandas as pd\n",
    "from sklearn.preprocessing import OneHotEncoder\n",
    "from sklearn.model_selection import cross_val_score,cross_validate\n",
    "import sklearn.model_selection as ms\n",
    "import sklearn\n",
    "import sklearn.datasets\n",
    "import sklearn.ensemble\n",
    "from sklearn.ensemble import RandomForestClassifier\n",
    "import optuna\n",
    "import xgboost as xgb\n",
    "from utils import team_prepr\n",
    "import joblib\n",
    "from pathlib import Path, PurePath\n"
   ]
  },
  {
   "cell_type": "code",
   "execution_count": null,
   "id": "b52c39e0",
   "metadata": {},
   "outputs": [],
   "source": [
    "Teraz zaimportujmy dane i zróbmy pierwsze modyfikacje"
   ]
  },
  {
   "cell_type": "code",
   "execution_count": null,
   "id": "8308c15e",
   "metadata": {},
   "outputs": [],
   "source": [
    "pd.set_option('display.max_columns', 14)\n",
    "\n",
    "path = kagglehub.dataset_download(\"filippomonte/premier-league-past-3-seasons\")\n",
    "file = PurePath(Path(path).joinpath('PremierLeagueMatches.csv'))\n",
    "df_raw = pd.read_csv(file)\n",
    "df_raw.columns = df_raw.columns.lower()\n",
    "df = df_raw.dropna(subset=['Result'], inplace=True)"
   ]
  }
 ],
 "metadata": {
  "kernelspec": {
   "display_name": "analiza_danych_projekt",
   "language": "python",
   "name": "python3"
  },
  "language_info": {
   "codemirror_mode": {
    "name": "ipython",
    "version": 3
   },
   "file_extension": ".py",
   "mimetype": "text/x-python",
   "name": "python",
   "nbconvert_exporter": "python",
   "pygments_lexer": "ipython3",
   "version": "3.10.18"
  }
 },
 "nbformat": 4,
 "nbformat_minor": 5
}
